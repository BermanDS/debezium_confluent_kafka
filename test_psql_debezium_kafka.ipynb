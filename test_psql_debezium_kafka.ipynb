{
 "cells": [
  {
   "cell_type": "code",
   "execution_count": 1,
   "id": "f8429cb5-ffd6-4cc3-9d96-4ea56a4db32e",
   "metadata": {},
   "outputs": [],
   "source": [
    "import os\n",
    "import json\n",
    "import requests\n",
    "from sqlalchemy import create_engine \n",
    "import pandas as pd\n",
    "from dotenv import load_dotenv"
   ]
  },
  {
   "cell_type": "code",
   "execution_count": 2,
   "id": "b756e49c-bbfa-499f-854d-43965010b011",
   "metadata": {},
   "outputs": [
    {
     "data": {
      "text/plain": [
       "True"
      ]
     },
     "execution_count": 2,
     "metadata": {},
     "output_type": "execute_result"
    }
   ],
   "source": [
    "load_dotenv()"
   ]
  },
  {
   "cell_type": "code",
   "execution_count": 3,
   "id": "9bee8568-088e-4e82-8a3a-f93f031118f4",
   "metadata": {
    "tags": []
   },
   "outputs": [],
   "source": [
    "conn_string = f\"postgresql://{os.getenv('DB__USER')}:{os.getenv('DB__PASSW')}@{os.getenv('LOCAL__HOST')}:{os.getenv('PG__PORT')}/{os.getenv('DB__NAME')}\"\n",
    "\n",
    "db = create_engine(conn_string) \n",
    "conn = db.connect() "
   ]
  },
  {
   "cell_type": "code",
   "execution_count": 4,
   "id": "357aae07-288c-48f3-a1db-42191ac2d64c",
   "metadata": {},
   "outputs": [
    {
     "data": {
      "text/html": [
       "<div>\n",
       "<style scoped>\n",
       "    .dataframe tbody tr th:only-of-type {\n",
       "        vertical-align: middle;\n",
       "    }\n",
       "\n",
       "    .dataframe tbody tr th {\n",
       "        vertical-align: top;\n",
       "    }\n",
       "\n",
       "    .dataframe thead th {\n",
       "        text-align: right;\n",
       "    }\n",
       "</style>\n",
       "<table border=\"1\" class=\"dataframe\">\n",
       "  <thead>\n",
       "    <tr style=\"text-align: right;\">\n",
       "      <th></th>\n",
       "      <th>id</th>\n",
       "      <th>ticker</th>\n",
       "      <th>securityid</th>\n",
       "      <th>tradecode</th>\n",
       "      <th>datepost</th>\n",
       "    </tr>\n",
       "  </thead>\n",
       "  <tbody>\n",
       "    <tr>\n",
       "      <th>2</th>\n",
       "      <td>3</td>\n",
       "      <td>ALFA</td>\n",
       "      <td>2542352</td>\n",
       "      <td>ewtegHNTH</td>\n",
       "      <td>1702339239000</td>\n",
       "    </tr>\n",
       "  </tbody>\n",
       "</table>\n",
       "</div>"
      ],
      "text/plain": [
       "   id ticker  securityid  tradecode       datepost\n",
       "2   3   ALFA     2542352  ewtegHNTH  1702339239000"
      ]
     },
     "execution_count": 4,
     "metadata": {},
     "output_type": "execute_result"
    }
   ],
   "source": [
    "df = pd.DataFrame(\n",
    "    [\n",
    "        (1, 'SBOL', 1973453, 'DFGHrthfgfTJ', 1702339200000),\n",
    "        (2, 'TINKOFF', 1412434, 'ergerRhdsht', 1702339276000),\n",
    "        (3, 'ALFA', 2542352, 'ewtegHNTH', 1702339239000)\n",
    "    ],\n",
    "    columns = ['id', 'ticker', 'securityid', 'tradecode', 'datepost']\n",
    ")\n",
    "df.sample()"
   ]
  },
  {
   "cell_type": "code",
   "execution_count": 5,
   "id": "38daea80-b383-49f0-9224-44a47ee02eab",
   "metadata": {},
   "outputs": [
    {
     "data": {
      "text/plain": [
       "3"
      ]
     },
     "execution_count": 5,
     "metadata": {},
     "output_type": "execute_result"
    }
   ],
   "source": [
    "df.to_sql('quotes', conn, if_exists='append', index=False)"
   ]
  },
  {
   "cell_type": "code",
   "execution_count": 6,
   "id": "4207f4e9-9dd1-4a15-9f67-55f5ff624814",
   "metadata": {},
   "outputs": [
    {
     "data": {
      "text/plain": [
       "{'name': 'movies-db-connector',\n",
       " 'config': {'connector.class': 'io.debezium.connector.postgresql.PostgresConnector',\n",
       "  'plugin.name': 'pgoutput',\n",
       "  'tasks.max': '1',\n",
       "  'database.hostname': '10.209.229.52',\n",
       "  'database.port': '5432',\n",
       "  'database.user': 'admin',\n",
       "  'database.password': 'secret',\n",
       "  'database.dbname': 'trades',\n",
       "  'database.server.name': 'postgres',\n",
       "  'table.include.list': 'public.quotes',\n",
       "  'database.history.kafka.bootstrap.servers': 'broker:9092',\n",
       "  'database.history.kafka.topic': 'schema-changes.quotes',\n",
       "  'topic.prefix': 'uat.psql',\n",
       "  'topic.creation.enable': 'true',\n",
       "  'topic.creation.default.replication.factor': '1',\n",
       "  'topic.creation.default.partitions': '1',\n",
       "  'topic.creation.default.cleanup.policy': 'delete',\n",
       "  'topic.creation.default.retention.ms': '604800000',\n",
       "  'key.converter': 'io.confluent.connect.avro.AvroConverter',\n",
       "  'value.converter': 'io.confluent.connect.avro.AvroConverter',\n",
       "  'key.converter.schema.registry.url': 'http://10.209.229.52:8081',\n",
       "  'value.converter.schema.registry.url': 'http://10.209.229.52:8081'}}"
      ]
     },
     "execution_count": 6,
     "metadata": {},
     "output_type": "execute_result"
    }
   ],
   "source": [
    "with open('connector_psql.json', 'r') as f:\n",
    "    data = json.load(f)\n",
    "data"
   ]
  },
  {
   "cell_type": "code",
   "execution_count": 7,
   "id": "c45641be-69ce-47a4-bc14-499929ce4d73",
   "metadata": {},
   "outputs": [],
   "source": [
    "data['database.hostname'] = os.getenv('LOCAL__HOST')\n",
    "data['database.port'] = os.getenv('PG__PORT')\n",
    "data['database.user'] = os.getenv('DB__USER')\n",
    "data['database.password'] = os.getenv('DB__PASSW')\n",
    "data['key.converter.schema.registry.url'] = f\"http://{os.getenv('LOCAL__HOST')}:{os.getenv('SCHEMA_REG__PORT')}\"\n",
    "data['value.converter.schema.registry.url'] = f\"http://{os.getenv('LOCAL__HOST')}:{os.getenv('SCHEMA_REG__PORT')}\""
   ]
  },
  {
   "cell_type": "code",
   "execution_count": 8,
   "id": "ca65f62f-1210-4f17-84f2-91e18e2f0edc",
   "metadata": {},
   "outputs": [],
   "source": [
    "url = f\"http://{os.getenv('LOCAL__HOST')}:{os.getenv('DEBEZIUM__PORT')}/connectors\""
   ]
  },
  {
   "cell_type": "code",
   "execution_count": null,
   "id": "290700c3-5516-48a2-abcd-be55c422f7ec",
   "metadata": {},
   "outputs": [],
   "source": [
    "resp = requests.post(\n",
    "    url = url, \n",
    "    headers = {'Content-Type':'application/json','Accept':'application/json'},\n",
    "    json = data\n",
    ")\n",
    "resp.text"
   ]
  }
 ],
 "metadata": {
  "kernelspec": {
   "display_name": "Python 3",
   "language": "python",
   "name": "python3"
  },
  "language_info": {
   "codemirror_mode": {
    "name": "ipython",
    "version": 3
   },
   "file_extension": ".py",
   "mimetype": "text/x-python",
   "name": "python",
   "nbconvert_exporter": "python",
   "pygments_lexer": "ipython3",
   "version": "3.8.8"
  }
 },
 "nbformat": 4,
 "nbformat_minor": 5
}
